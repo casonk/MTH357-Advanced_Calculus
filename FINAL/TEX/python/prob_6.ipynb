{
 "cells": [
  {
   "cell_type": "code",
   "execution_count": 1,
   "metadata": {},
   "outputs": [],
   "source": [
    "import numpy as np\n",
    "import matplotlib.pyplot as plt\n",
    "from matplotlib.cm import get_cmap\n",
    "import pandas as pd\n",
    "import seaborn as sns\n",
    "import math \n",
    "from mpl_toolkits.mplot3d import Axes3D\n",
    "from ipywidgets import interact, interactive, fixed, interact_manual"
   ]
  },
  {
   "cell_type": "code",
   "execution_count": 2,
   "metadata": {},
   "outputs": [
    {
     "data": {
      "application/vnd.jupyter.widget-view+json": {
       "model_id": "5768f7106f6845bbbf98111036e00577",
       "version_major": 2,
       "version_minor": 0
      },
      "text/plain": [
       "interactive(children=(Dropdown(description='phi', options=(<ufunc 'sin'>, <ufunc 'cos'>, <ufunc 'square'>, <uf…"
      ]
     },
     "metadata": {},
     "output_type": "display_data"
    }
   ],
   "source": [
    "plt.style.use('dark_background') # Using a style sheet\n",
    "plt.rcParams['figure.figsize'] = [16, 9]\n",
    "plt.rcParams.update({'font.size': 18})\n",
    "plt.rcParams.update({'text.usetex': True})\n",
    "\n",
    "def pde_plot(phi,psi,phi_sign,psi_sign,opacity,wire_opacity,azimuthal_angle,elevation_angle):\n",
    "    # Define domain\n",
    "    dx = 0.01\n",
    "    dy = 0.01\n",
    "    L = 5\n",
    "    x = L * np.arange(-1,1,dx)\n",
    "    y = L * np.arange(-1,1,dy)\n",
    "    X,Y = np.meshgrid(x, y)\n",
    "    if (phi_sign == '+') and (psi_sign == '+'):\n",
    "        Z = (Y+2*X)*phi(Y+2*X) + psi(Y+X)\n",
    "    if (phi_sign == '-') and (psi_sign == '+'):\n",
    "        Z = -(Y+2*X)*phi(Y+2*X) + psi(Y+X)\n",
    "    if (phi_sign == '+') and (psi_sign == '-'):\n",
    "        Z = (Y+2*X)*phi(Y+2*X) - psi(Y+X)\n",
    "    if (phi_sign == '-') and (psi_sign == '-'):\n",
    "        Z = -(Y+2*X)*phi(Y+2*X) - psi(Y+X)\n",
    "\n",
    "    fig = plt.figure()\n",
    "    ax = fig.add_subplot(111, projection='3d')\n",
    "    ax.view_init(elev=elevation_angle, azim=azimuthal_angle)\n",
    "    surf = ax.plot_surface(X,Y,Z,cmap='viridis',alpha=opacity)\n",
    "    ax.plot_wireframe(X,Y,Z,color='black',alpha=wire_opacity)\n",
    "\n",
    "    ax.set_title('$ \\displaystyle u(x,y) = y\\phi(y+2x) + 2x\\phi(y+2x) + \\psi(y+x) $')\n",
    "    ax.set_xlabel('$x$', labelpad=10)\n",
    "    ax.set_ylabel('$y$', labelpad=10)\n",
    "    ax.set_zlabel('$z$', labelpad=10)\n",
    "    fig.colorbar(surf, shrink=0.5, aspect=8)\n",
    "\n",
    "signs = ['+','-']\n",
    "funkz = [np.sin,np.cos,np.square,np.exp]\n",
    "# angles = [10,25,45,65,90]\n",
    "angles = (0,360,5)\n",
    "pde_frame = interactive(pde_plot,phi=funkz,psi=funkz,phi_sign=signs,psi_sign=signs,opacity=(0.125,1,.01),wire_opacity=(0.125,1,.01),azimuthal_angle=angles,elevation_angle=angles)\n",
    "\n",
    "pde_frame"
   ]
  },
  {
   "cell_type": "code",
   "execution_count": null,
   "metadata": {},
   "outputs": [],
   "source": []
  }
 ],
 "metadata": {
  "interpreter": {
   "hash": "4836a0a5f2f1ae6af61e5b925c202f315aa8ade6f86130ce758b71fbfe0ed60e"
  },
  "kernelspec": {
   "display_name": "Python 3.9.6 64-bit",
   "language": "python",
   "name": "python3"
  },
  "language_info": {
   "codemirror_mode": {
    "name": "ipython",
    "version": 3
   },
   "file_extension": ".py",
   "mimetype": "text/x-python",
   "name": "python",
   "nbconvert_exporter": "python",
   "pygments_lexer": "ipython3",
   "version": "3.9.6"
  },
  "orig_nbformat": 4
 },
 "nbformat": 4,
 "nbformat_minor": 2
}

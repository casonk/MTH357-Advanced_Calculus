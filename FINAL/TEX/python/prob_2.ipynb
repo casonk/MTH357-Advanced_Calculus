{
 "cells": [
  {
   "cell_type": "code",
   "execution_count": 1,
   "metadata": {},
   "outputs": [],
   "source": [
    "import numpy as np\n",
    "import matplotlib.pyplot as plt\n",
    "from matplotlib.cm import get_cmap\n",
    "import pandas as pd\n",
    "import seaborn as sns\n",
    "import math \n",
    "from ipywidgets import interact, interactive, fixed, interact_manual"
   ]
  },
  {
   "cell_type": "code",
   "execution_count": 2,
   "metadata": {},
   "outputs": [
    {
     "data": {
      "application/vnd.jupyter.widget-view+json": {
       "model_id": "53b9adb89e5f4edc80de142a55a68131",
       "version_major": 2,
       "version_minor": 0
      },
      "text/plain": [
       "interactive(children=(IntSlider(value=25, description='percision', max=50, min=1), IntSlider(value=24, descrip…"
      ]
     },
     "metadata": {},
     "output_type": "display_data"
    }
   ],
   "source": [
    "plt.style.use('dark_background') # Using a style sheet\n",
    "plt.rcParams['figure.figsize'] = [16, 9]\n",
    "plt.rcParams.update({'font.size': 18})\n",
    "plt.rcParams.update({'text.usetex': True})\n",
    "\n",
    "def fourier_plot(percision, min_k, opacity):\n",
    "    # Define domain\n",
    "    dx = 0.001\n",
    "    L = 1\n",
    "    x = L * np.arange(-1,1,dx)\n",
    "    n = int(np.floor(len(x)/2))\n",
    "\n",
    "    # Define function\n",
    "    f = np.zeros_like(x)\n",
    "    f = -x\n",
    "\n",
    "    fig, ax = plt.subplots()\n",
    "    ax.plot(x,f,'-',color='white',LineWidth=3)\n",
    "\n",
    "    # Compute Fourier series\n",
    "    name = \"Accent\"\n",
    "    cmap = get_cmap('tab10')\n",
    "    colors = cmap.colors\n",
    "    ax.set_prop_cycle(color=colors)\n",
    "\n",
    "    fFS = 0\n",
    "\n",
    "    B = np.zeros(percision)\n",
    "    for k in range(percision):\n",
    "        B[k] =  np.sum((f * np.sin(np.pi*(k+1)*x/L))) * dx\n",
    "        fFS = fFS + B[k]*np.sin((k+1)*np.pi*x/L)\n",
    "        if k >= min_k:\n",
    "            ax.plot(x,fFS,'-', alpha=opacity)\n",
    "        \n",
    "    ax.set_title('$ Sine \\ Fourier \\ Series \\ Representation \\ of \\ f(x) = -x \\ for \\ 0 < x < 1 $')\n",
    "    \n",
    "    # plt.show()\n",
    "    \n",
    "# Create as an interactive plot\n",
    "days_categories = ['Weight','Length','_Species','Fishing_Gear','_Site']\n",
    "fourier_frame = interactive(fourier_plot,percision=(1,50,1),min_k=(0,49,1),opacity=(0.125,1,.05))\n",
    "\n",
    "# call the plot object\n",
    "fourier_frame"
   ]
  },
  {
   "cell_type": "code",
   "execution_count": 16,
   "metadata": {},
   "outputs": [
    {
     "data": {
      "application/vnd.jupyter.widget-view+json": {
       "model_id": "db5e7e6a8bef4f35bb338809164c6ec7",
       "version_major": 2,
       "version_minor": 0
      },
      "text/plain": [
       "interactive(children=(FloatSlider(value=0.0, description='c1', max=1.0, min=-1.0, step=0.0001), FloatSlider(va…"
      ]
     },
     "metadata": {},
     "output_type": "display_data"
    }
   ],
   "source": [
    "plt.style.use('dark_background') # Using a style sheet\n",
    "plt.rcParams['figure.figsize'] = [16, 9]\n",
    "plt.rcParams.update({'font.size': 18})\n",
    "plt.rcParams.update({'text.usetex': True})\n",
    "\n",
    "def fourier_plot(c1, c2, percision, min_k, opacity):\n",
    "\n",
    "    # Define domain\n",
    "    dx = 0.001\n",
    "    L = 1\n",
    "    x = L * np.arange(-10,10,dx)\n",
    "\n",
    "    fig, ax = plt.subplots()\n",
    "    # ax.set_xlim(x_min,x_max)\n",
    "    # ax.set_ylim(y_min, y_max)\n",
    "\n",
    "    # Compute ODE Solution\n",
    "    name = \"Accent\"\n",
    "    cmap = get_cmap('tab10')\n",
    "    colors = cmap.colors\n",
    "    ax.set_prop_cycle(color=colors)\n",
    "\n",
    "    y = c1*np.cos(x) + c2*np.sin(x)\n",
    "    Y = y\n",
    "    ones = np.ones_like(y)\n",
    "    for n in range(percision):\n",
    "        Y = y + (((-1)^(n+1))*np.sin((n+1)*np.pi*x))/(((n+1)*np.pi)-((n+1)*(n+1)*(n+1)*(np.pi)*(np.pi)*(np.pi)))\n",
    "        if n >= min_k:\n",
    "          ax.plot(x,Y,'-', alpha=opacity)\n",
    "        \n",
    "    # plt.show()\n",
    "    ax.set_title('$ y \\ with \\ c1 = {} \\ ; \\ c2 = {} \\ ; \\ n \\in [{}, {}] $'.format(c1,c2,min_k,percision))\n",
    "\n",
    "# Create as an interactive plot\n",
    "fourier_frame = interactive(fourier_plot,c1=(-1,1,0.0001),c2=(-1,1,0.0001),percision=(1,50,1),min_k=(0,49,1),opacity=(0.125,1,.01))\n",
    "\n",
    "# call the plot object\n",
    "fourier_frame"
   ]
  },
  {
   "cell_type": "code",
   "execution_count": null,
   "metadata": {},
   "outputs": [],
   "source": []
  }
 ],
 "metadata": {
  "interpreter": {
   "hash": "4836a0a5f2f1ae6af61e5b925c202f315aa8ade6f86130ce758b71fbfe0ed60e"
  },
  "kernelspec": {
   "display_name": "Python 3.9.6 64-bit",
   "language": "python",
   "name": "python3"
  },
  "language_info": {
   "codemirror_mode": {
    "name": "ipython",
    "version": 3
   },
   "file_extension": ".py",
   "mimetype": "text/x-python",
   "name": "python",
   "nbconvert_exporter": "python",
   "pygments_lexer": "ipython3",
   "version": "3.9.6"
  },
  "orig_nbformat": 4
 },
 "nbformat": 4,
 "nbformat_minor": 2
}
